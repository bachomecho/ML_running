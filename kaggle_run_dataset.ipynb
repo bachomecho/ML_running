{
 "cells": [
  {
   "cell_type": "code",
   "execution_count": 1,
   "id": "9b42d9af",
   "metadata": {},
   "outputs": [],
   "source": [
    "import pandas as pd\n",
    "import matplotlib.pyplot as plt"
   ]
  },
  {
   "cell_type": "code",
   "execution_count": 2,
   "id": "89f55e3b",
   "metadata": {},
   "outputs": [],
   "source": [
    "df = pd.read_csv(\"activity_log.csv\")"
   ]
  },
  {
   "cell_type": "code",
   "execution_count": 3,
   "id": "c7164c9f",
   "metadata": {
    "scrolled": false
   },
   "outputs": [
    {
     "data": {
      "text/html": [
       "<div>\n",
       "<style scoped>\n",
       "    .dataframe tbody tr th:only-of-type {\n",
       "        vertical-align: middle;\n",
       "    }\n",
       "\n",
       "    .dataframe tbody tr th {\n",
       "        vertical-align: top;\n",
       "    }\n",
       "\n",
       "    .dataframe thead th {\n",
       "        text-align: right;\n",
       "    }\n",
       "</style>\n",
       "<table border=\"1\" class=\"dataframe\">\n",
       "  <thead>\n",
       "    <tr style=\"text-align: right;\">\n",
       "      <th></th>\n",
       "      <th>Activity Type</th>\n",
       "      <th>Date</th>\n",
       "      <th>Title</th>\n",
       "      <th>Distance</th>\n",
       "      <th>Calories</th>\n",
       "      <th>Time</th>\n",
       "      <th>Avg HR</th>\n",
       "      <th>Max HR</th>\n",
       "      <th>Avg Run Cadence</th>\n",
       "      <th>Max Run Cadence</th>\n",
       "      <th>Avg Pace</th>\n",
       "      <th>Best Pace</th>\n",
       "      <th>Elev Gain</th>\n",
       "      <th>Elev Loss</th>\n",
       "      <th>Avg Stride Length</th>\n",
       "      <th>Best Lap Time</th>\n",
       "      <th>Number of Laps</th>\n",
       "    </tr>\n",
       "  </thead>\n",
       "  <tbody>\n",
       "    <tr>\n",
       "      <th>0</th>\n",
       "      <td>Running</td>\n",
       "      <td>7/15/20 9:41</td>\n",
       "      <td>Cherry Hill Running</td>\n",
       "      <td>6.00</td>\n",
       "      <td>530</td>\n",
       "      <td>0:43:55</td>\n",
       "      <td>141</td>\n",
       "      <td>160</td>\n",
       "      <td>176</td>\n",
       "      <td>182</td>\n",
       "      <td>7:19</td>\n",
       "      <td>6:20</td>\n",
       "      <td>169</td>\n",
       "      <td>173</td>\n",
       "      <td>1.26</td>\n",
       "      <td>00:02.3</td>\n",
       "      <td>7</td>\n",
       "    </tr>\n",
       "    <tr>\n",
       "      <th>1</th>\n",
       "      <td>Running</td>\n",
       "      <td>7/14/20 17:45</td>\n",
       "      <td>Cherry Hill Running</td>\n",
       "      <td>6.50</td>\n",
       "      <td>587</td>\n",
       "      <td>0:47:04</td>\n",
       "      <td>144</td>\n",
       "      <td>160</td>\n",
       "      <td>172</td>\n",
       "      <td>182</td>\n",
       "      <td>7:14</td>\n",
       "      <td>6:35</td>\n",
       "      <td>183</td>\n",
       "      <td>187</td>\n",
       "      <td>1.29</td>\n",
       "      <td>03:32.7</td>\n",
       "      <td>7</td>\n",
       "    </tr>\n",
       "    <tr>\n",
       "      <th>2</th>\n",
       "      <td>Running</td>\n",
       "      <td>7/13/20 18:57</td>\n",
       "      <td>Cherry Hill Running</td>\n",
       "      <td>5.01</td>\n",
       "      <td>392</td>\n",
       "      <td>0:40:29</td>\n",
       "      <td>128</td>\n",
       "      <td>151</td>\n",
       "      <td>170</td>\n",
       "      <td>180</td>\n",
       "      <td>8:05</td>\n",
       "      <td>5:49</td>\n",
       "      <td>124</td>\n",
       "      <td>124</td>\n",
       "      <td>1.17</td>\n",
       "      <td>00:04.1</td>\n",
       "      <td>6</td>\n",
       "    </tr>\n",
       "    <tr>\n",
       "      <th>3</th>\n",
       "      <td>Running</td>\n",
       "      <td>7/12/20 18:44</td>\n",
       "      <td>Cherry Hill Running</td>\n",
       "      <td>7.01</td>\n",
       "      <td>633</td>\n",
       "      <td>0:52:55</td>\n",
       "      <td>142</td>\n",
       "      <td>157</td>\n",
       "      <td>172</td>\n",
       "      <td>180</td>\n",
       "      <td>7:33</td>\n",
       "      <td>5:00</td>\n",
       "      <td>215</td>\n",
       "      <td>219</td>\n",
       "      <td>1.24</td>\n",
       "      <td>00:05.1</td>\n",
       "      <td>8</td>\n",
       "    </tr>\n",
       "    <tr>\n",
       "      <th>4</th>\n",
       "      <td>Running</td>\n",
       "      <td>7/11/20 19:35</td>\n",
       "      <td>Cherry Hill Running</td>\n",
       "      <td>5.19</td>\n",
       "      <td>419</td>\n",
       "      <td>0:41:35</td>\n",
       "      <td>129</td>\n",
       "      <td>143</td>\n",
       "      <td>170</td>\n",
       "      <td>178</td>\n",
       "      <td>8:01</td>\n",
       "      <td>6:48</td>\n",
       "      <td>76</td>\n",
       "      <td>80</td>\n",
       "      <td>1.18</td>\n",
       "      <td>01:27.1</td>\n",
       "      <td>6</td>\n",
       "    </tr>\n",
       "  </tbody>\n",
       "</table>\n",
       "</div>"
      ],
      "text/plain": [
       "  Activity Type           Date                Title  Distance Calories  \\\n",
       "0       Running   7/15/20 9:41  Cherry Hill Running      6.00      530   \n",
       "1       Running  7/14/20 17:45  Cherry Hill Running      6.50      587   \n",
       "2       Running  7/13/20 18:57  Cherry Hill Running      5.01      392   \n",
       "3       Running  7/12/20 18:44  Cherry Hill Running      7.01      633   \n",
       "4       Running  7/11/20 19:35  Cherry Hill Running      5.19      419   \n",
       "\n",
       "      Time Avg HR Max HR Avg Run Cadence Max Run Cadence Avg Pace Best Pace  \\\n",
       "0  0:43:55    141    160             176             182     7:19      6:20   \n",
       "1  0:47:04    144    160             172             182     7:14      6:35   \n",
       "2  0:40:29    128    151             170             180     8:05      5:49   \n",
       "3  0:52:55    142    157             172             180     7:33      5:00   \n",
       "4  0:41:35    129    143             170             178     8:01      6:48   \n",
       "\n",
       "  Elev Gain Elev Loss  Avg Stride Length Best Lap Time  Number of Laps  \n",
       "0       169       173               1.26       00:02.3               7  \n",
       "1       183       187               1.29       03:32.7               7  \n",
       "2       124       124               1.17       00:04.1               6  \n",
       "3       215       219               1.24       00:05.1               8  \n",
       "4        76        80               1.18       01:27.1               6  "
      ]
     },
     "execution_count": 3,
     "metadata": {},
     "output_type": "execute_result"
    }
   ],
   "source": [
    "df.head()"
   ]
  },
  {
   "cell_type": "code",
   "execution_count": 4,
   "id": "0b1ccc34",
   "metadata": {},
   "outputs": [
    {
     "data": {
      "text/plain": [
       "(689, 17)"
      ]
     },
     "execution_count": 4,
     "metadata": {},
     "output_type": "execute_result"
    }
   ],
   "source": [
    "df.shape"
   ]
  },
  {
   "cell_type": "code",
   "execution_count": 5,
   "id": "91a23fd7",
   "metadata": {},
   "outputs": [
    {
     "data": {
      "text/plain": [
       "Activity Type         object\n",
       "Date                  object\n",
       "Title                 object\n",
       "Distance             float64\n",
       "Calories              object\n",
       "Time                  object\n",
       "Avg HR                object\n",
       "Max HR                object\n",
       "Avg Run Cadence       object\n",
       "Max Run Cadence       object\n",
       "Avg Pace              object\n",
       "Best Pace             object\n",
       "Elev Gain             object\n",
       "Elev Loss             object\n",
       "Avg Stride Length    float64\n",
       "Best Lap Time         object\n",
       "Number of Laps         int64\n",
       "dtype: object"
      ]
     },
     "execution_count": 5,
     "metadata": {},
     "output_type": "execute_result"
    }
   ],
   "source": [
    "df.dtypes"
   ]
  },
  {
   "cell_type": "code",
   "execution_count": 6,
   "id": "dc772382",
   "metadata": {},
   "outputs": [
    {
     "name": "stdout",
     "output_type": "stream",
     "text": [
      "<class 'pandas.core.frame.DataFrame'>\n",
      "RangeIndex: 689 entries, 0 to 688\n",
      "Data columns (total 17 columns):\n",
      " #   Column             Non-Null Count  Dtype  \n",
      "---  ------             --------------  -----  \n",
      " 0   Activity Type      689 non-null    object \n",
      " 1   Date               689 non-null    object \n",
      " 2   Title              689 non-null    object \n",
      " 3   Distance           689 non-null    float64\n",
      " 4   Calories           689 non-null    object \n",
      " 5   Time               689 non-null    object \n",
      " 6   Avg HR             689 non-null    object \n",
      " 7   Max HR             689 non-null    object \n",
      " 8   Avg Run Cadence    689 non-null    object \n",
      " 9   Max Run Cadence    689 non-null    object \n",
      " 10  Avg Pace           689 non-null    object \n",
      " 11  Best Pace          689 non-null    object \n",
      " 12  Elev Gain          689 non-null    object \n",
      " 13  Elev Loss          689 non-null    object \n",
      " 14  Avg Stride Length  689 non-null    float64\n",
      " 15  Best Lap Time      689 non-null    object \n",
      " 16  Number of Laps     689 non-null    int64  \n",
      "dtypes: float64(2), int64(1), object(14)\n",
      "memory usage: 91.6+ KB\n"
     ]
    }
   ],
   "source": [
    "df.info()"
   ]
  },
  {
   "cell_type": "code",
   "execution_count": 7,
   "id": "ecccad40",
   "metadata": {},
   "outputs": [],
   "source": [
    "df_copy = df.copy()"
   ]
  },
  {
   "cell_type": "markdown",
   "id": "5920f33f",
   "metadata": {},
   "source": [
    "## 1. What is the average distance covered under 30 minutes? "
   ]
  },
  {
   "cell_type": "code",
   "execution_count": 8,
   "id": "7547cfab",
   "metadata": {},
   "outputs": [
    {
     "data": {
      "text/plain": [
       "'On average, 2.14 miles are covered under 30 minutes by this runner.'"
      ]
     },
     "execution_count": 8,
     "metadata": {},
     "output_type": "execute_result"
    }
   ],
   "source": [
    "f'On average, {round(df.loc[df.Time < \"0:30:00\", \"Distance\"].mean(), 2)} miles are covered under 30 minutes by this runner.'"
   ]
  },
  {
   "cell_type": "markdown",
   "id": "5ba10841",
   "metadata": {},
   "source": [
    "## 2. Analyzing average pace in different seasons"
   ]
  },
  {
   "cell_type": "markdown",
   "id": "46155bc1",
   "metadata": {},
   "source": [
    "#### This is the first step of my quest to research the hypotheses of seasonality affecting running performance. \n",
    "In this first step, I am visualizing the average pace of this particular runner based on the different seasons."
   ]
  },
  {
   "cell_type": "code",
   "execution_count": 9,
   "id": "3d938ca9",
   "metadata": {},
   "outputs": [],
   "source": [
    "def apply_seasons(month):\n",
    "    if month in [3,4,5]:\n",
    "        return \"spring\"\n",
    "    elif month in [6,7,8]:\n",
    "        return \"summer\"\n",
    "    elif month in [9,10,11]:\n",
    "        return \"autumn\"\n",
    "    else:\n",
    "        return \"winter\""
   ]
  },
  {
   "cell_type": "code",
   "execution_count": 10,
   "id": "9444e8e2",
   "metadata": {},
   "outputs": [],
   "source": [
    "df[\"Season\"] = df.Date.apply(lambda x: apply_seasons(int(x.split(\"/\")[0])))"
   ]
  },
  {
   "cell_type": "code",
   "execution_count": 11,
   "id": "80853ac4",
   "metadata": {},
   "outputs": [
    {
     "data": {
      "text/plain": [
       "556"
      ]
     },
     "execution_count": 11,
     "metadata": {},
     "output_type": "execute_result"
    }
   ],
   "source": [
    "df.index[df[\"Avg Pace\"].str.contains('--')].tolist()[0]"
   ]
  },
  {
   "cell_type": "code",
   "execution_count": 12,
   "id": "aa82dcc0",
   "metadata": {},
   "outputs": [],
   "source": [
    "df.loc[df[\"Avg Pace\"] == \"--\", \"Avg Pace\"] = '0'"
   ]
  },
  {
   "cell_type": "markdown",
   "id": "5456b978",
   "metadata": {},
   "source": [
    "replacing missing values with 0 --> this can lead to distortion in the results but there is only one missing value which is why I allowed myself to do this"
   ]
  },
  {
   "cell_type": "code",
   "execution_count": 13,
   "id": "7b960e5b",
   "metadata": {},
   "outputs": [
    {
     "data": {
      "text/plain": [
       "0      7:19\n",
       "1      7:14\n",
       "2      8:05\n",
       "3      7:33\n",
       "4      8:01\n",
       "       ... \n",
       "684    6:59\n",
       "685    7:02\n",
       "686    7:34\n",
       "687    7:20\n",
       "688    7:21\n",
       "Name: Avg Pace, Length: 689, dtype: object"
      ]
     },
     "execution_count": 13,
     "metadata": {},
     "output_type": "execute_result"
    }
   ],
   "source": [
    "df[\"Avg Pace\"]"
   ]
  },
  {
   "cell_type": "markdown",
   "id": "8d9b9754",
   "metadata": {},
   "source": [
    "converting the string in the \"Avg Pace\" column to integers in order to compute the mean for each season"
   ]
  },
  {
   "cell_type": "code",
   "execution_count": 14,
   "id": "2d63d7c5",
   "metadata": {
    "scrolled": true
   },
   "outputs": [],
   "source": [
    "df[\"Avg Pace Integer\"] = df[\"Avg Pace\"].apply(lambda x: int(float(x.replace(\":\", \"\"))))"
   ]
  },
  {
   "cell_type": "code",
   "execution_count": 15,
   "id": "590c0240",
   "metadata": {},
   "outputs": [
    {
     "data": {
      "text/plain": [
       "0      719\n",
       "1      714\n",
       "2      805\n",
       "3      733\n",
       "4      801\n",
       "      ... \n",
       "684    659\n",
       "685    702\n",
       "686    734\n",
       "687    720\n",
       "688    721\n",
       "Name: Avg Pace Integer, Length: 689, dtype: int64"
      ]
     },
     "execution_count": 15,
     "metadata": {},
     "output_type": "execute_result"
    }
   ],
   "source": [
    "df[\"Avg Pace Integer\"]"
   ]
  },
  {
   "cell_type": "code",
   "execution_count": 16,
   "id": "b52fe603",
   "metadata": {},
   "outputs": [
    {
     "name": "stdout",
     "output_type": "stream",
     "text": [
      "summer : 709\n",
      "spring : 679\n",
      "winter : 616\n",
      "autumn : 628\n"
     ]
    }
   ],
   "source": [
    "for season in df.Season.unique():\n",
    "    print(f'{season} : {int(df.loc[df.Season == season, \"Avg Pace Integer\"].mean())}')"
   ]
  },
  {
   "cell_type": "markdown",
   "id": "e9b9b9b4",
   "metadata": {},
   "source": [
    "Above we see that we can print the avg pace for each season. It remains to convert the integers into the proper format and assign them to the corresponding season in a dictionary. Finally, we visualize the results with matplotlib."
   ]
  },
  {
   "cell_type": "code",
   "execution_count": 17,
   "id": "6dd54087",
   "metadata": {},
   "outputs": [],
   "source": [
    "avg_pace_dict = dict()"
   ]
  },
  {
   "cell_type": "code",
   "execution_count": 18,
   "id": "4336ca05",
   "metadata": {},
   "outputs": [],
   "source": [
    "for season in df.Season.unique():\n",
    "    avg_pace_dict[season] = str(int(df.loc[df.Season == season, \"Avg Pace Integer\"].mean()))[:1] + ':' + \\\n",
    "                                str(int(df.loc[df.Season == season, \"Avg Pace Integer\"].mean()))[1:]"
   ]
  },
  {
   "cell_type": "code",
   "execution_count": 19,
   "id": "79d1f436",
   "metadata": {},
   "outputs": [
    {
     "data": {
      "text/plain": [
       "{'summer': '7:09', 'spring': '6:79', 'winter': '6:16', 'autumn': '6:28'}"
      ]
     },
     "execution_count": 19,
     "metadata": {},
     "output_type": "execute_result"
    }
   ],
   "source": [
    "avg_pace_dict"
   ]
  },
  {
   "cell_type": "markdown",
   "id": "88277a41",
   "metadata": {},
   "source": [
    "### As we can see there is a difference between the average pace per mile for the different seasons.\n",
    "The biggest discrepency becomes evident when comparing **winter and summer**. This particular runner seems to need **1 MINUTE LONGER** to cover a mile in the summer compared to the winter season. This could be the result of warmer weather conditions in the summer slowing the runner down."
   ]
  },
  {
   "cell_type": "markdown",
   "id": "189193df",
   "metadata": {},
   "source": [
    "## 3. How many calories would this runner burn in a marathon? (Linear Regression)"
   ]
  },
  {
   "cell_type": "code",
   "execution_count": 20,
   "id": "4fa988ac",
   "metadata": {},
   "outputs": [],
   "source": [
    "from sklearn.linear_model import LinearRegression\n",
    "from sklearn.model_selection import train_test_split\n",
    "import numpy as np"
   ]
  },
  {
   "cell_type": "code",
   "execution_count": 21,
   "id": "2d42f333",
   "metadata": {
    "scrolled": true
   },
   "outputs": [
    {
     "data": {
      "text/plain": [
       "Index(['Activity Type', 'Date', 'Title', 'Distance', 'Calories', 'Time',\n",
       "       'Avg HR', 'Max HR', 'Avg Run Cadence', 'Max Run Cadence', 'Avg Pace',\n",
       "       'Best Pace', 'Elev Gain', 'Elev Loss', 'Avg Stride Length',\n",
       "       'Best Lap Time', 'Number of Laps', 'Season', 'Avg Pace Integer'],\n",
       "      dtype='object')"
      ]
     },
     "execution_count": 21,
     "metadata": {},
     "output_type": "execute_result"
    }
   ],
   "source": [
    "df.columns"
   ]
  },
  {
   "cell_type": "code",
   "execution_count": 22,
   "id": "6176ebd2",
   "metadata": {},
   "outputs": [],
   "source": [
    "df.loc[df[\"Distance\"] == \"--\", \"Distance\"] = '0'\n",
    "df.loc[df[\"Calories\"] == \"--\", \"Calories\"] = '0'"
   ]
  },
  {
   "cell_type": "code",
   "execution_count": 23,
   "id": "7e4762eb",
   "metadata": {},
   "outputs": [],
   "source": [
    "df['Calories'] = df['Calories'].apply(lambda x: x.replace(',', ''))"
   ]
  },
  {
   "cell_type": "code",
   "execution_count": 24,
   "id": "ea911568",
   "metadata": {
    "scrolled": true
   },
   "outputs": [],
   "source": [
    "df['Calories'] = df['Calories'].astype('int')\n",
    "df['Distance'] = df['Distance'].astype('int')"
   ]
  },
  {
   "cell_type": "code",
   "execution_count": 25,
   "id": "17011f61",
   "metadata": {},
   "outputs": [
    {
     "data": {
      "image/png": "[encoded data removed]",
      "text/plain": [
       "<Figure size 432x288 with 1 Axes>"
      ]
     },
     "metadata": {
      "needs_background": "light"
     },
     "output_type": "display_data"
    }
   ],
   "source": [
    "df.plot(kind='scatter', x='Distance', y='Calories')\n",
    "plt.title(\"Relationship between distance covered and calories burned\")\n",
    "plt.show()"
   ]
  },
  {
   "cell_type": "code",
   "execution_count": 26,
   "id": "31070b2b",
   "metadata": {},
   "outputs": [],
   "source": [
    "X_train, X_test, y_train, y_test = train_test_split(df.Distance, df.Calories, test_size=0.2)"
   ]
  },
  {
   "cell_type": "code",
   "execution_count": 27,
   "id": "e4400045",
   "metadata": {},
   "outputs": [
    {
     "data": {
      "text/plain": [
       "LinearRegression()"
      ]
     },
     "execution_count": 27,
     "metadata": {},
     "output_type": "execute_result"
    }
   ],
   "source": [
    "linear_regression = LinearRegression()\n",
    "linear_regression.fit(X_train.values.reshape(-1, 1), y_train.values)"
   ]
  },
  {
   "cell_type": "code",
   "execution_count": 28,
   "id": "55b7e659",
   "metadata": {},
   "outputs": [],
   "source": [
    "prediction = linear_regression.predict(X_test.values.reshape(-1, 1))"
   ]
  },
  {
   "cell_type": "code",
   "execution_count": 29,
   "id": "0e4d7810",
   "metadata": {},
   "outputs": [
    {
     "data": {
      "image/png": "[encoded data removed]",
      "text/plain": [
       "<Figure size 432x288 with 1 Axes>"
      ]
     },
     "metadata": {
      "needs_background": "light"
     },
     "output_type": "display_data"
    }
   ],
   "source": [
    "plt.plot(X_test, prediction, label=\"Linear Regression\", color='b')\n",
    "plt.scatter(X_test, y_test, label=\"Test Data\", color='g')\n",
    "plt.legend()\n",
    "plt.title(\"Linear Regression\")\n",
    "plt.show()"
   ]
  },
  {
   "cell_type": "code",
   "execution_count": 31,
   "id": "41f4cdbd",
   "metadata": {},
   "outputs": [
    {
     "data": {
      "text/plain": [
       "1829.994943647934"
      ]
     },
     "execution_count": 31,
     "metadata": {},
     "output_type": "execute_result"
    }
   ],
   "source": [
    "# prediction of how many calories this runner would burn if he was to run a marathon\n",
    "linear_regression.predict(np.array([[26.2]]))[0]"
   ]
  },
  {
   "cell_type": "markdown",
   "id": "5e840da8",
   "metadata": {},
   "source": [
    "According to our model, the runnner would burn approximately 1830 calories if he was to run a marathon of 26.2 miles."
   ]
  },
  {
   "cell_type": "markdown",
   "id": "d22a5818",
   "metadata": {},
   "source": [
    "#### Scoring this model"
   ]
  },
  {
   "cell_type": "code",
   "execution_count": 35,
   "id": "c4c2d854",
   "metadata": {},
   "outputs": [
    {
     "data": {
      "text/plain": [
       "0.7472938963182455"
      ]
     },
     "execution_count": 35,
     "metadata": {},
     "output_type": "execute_result"
    }
   ],
   "source": [
    "linear_regression.score(X_test.values.reshape(-1,1), y_test.values)"
   ]
  },
  {
   "cell_type": "markdown",
   "id": "f5f8cc69",
   "metadata": {},
   "source": [
    "## 4. Does running in the morning affect run performance?"
   ]
  },
  {
   "cell_type": "code",
   "execution_count": null,
   "id": "ea1f0644",
   "metadata": {},
   "outputs": [],
   "source": []
  },
  {
   "cell_type": "markdown",
   "id": "9b12649f",
   "metadata": {},
   "source": [
    "## 5. Predicting finish time for a marathon based on the available data"
   ]
  },
  {
   "cell_type": "code",
   "execution_count": null,
   "id": "23f2afd4",
   "metadata": {},
   "outputs": [],
   "source": []
  },
  {
   "cell_type": "code",
   "execution_count": null,
   "id": "7374065e",
   "metadata": {},
   "outputs": [],
   "source": []
  }
 ],
 "metadata": {
  "kernelspec": {
   "display_name": "Python 3 (ipykernel)",
   "language": "python",
   "name": "python3"
  },
  "language_info": {
   "codemirror_mode": {
    "name": "ipython",
    "version": 3
   },
   "file_extension": ".py",
   "mimetype": "text/x-python",
   "name": "python",
   "nbconvert_exporter": "python",
   "pygments_lexer": "ipython3",
   "version": "3.9.7"
  }
 },
 "nbformat": 4,
 "nbformat_minor": 5
}
